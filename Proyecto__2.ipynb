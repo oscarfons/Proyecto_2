{
  "nbformat": 4,
  "nbformat_minor": 0,
  "metadata": {
    "colab": {
      "name": "Proyecto _2.ipynb",
      "provenance": [],
      "collapsed_sections": []
    },
    "kernelspec": {
      "name": "python3",
      "display_name": "Python 3"
    },
    "language_info": {
      "name": "python"
    }
  },
  "cells": [
    {
      "cell_type": "code",
      "execution_count": null,
      "metadata": {
        "id": "dhKTdWq6wajR"
      },
      "outputs": [],
      "source": [
        "class Estadisticos:\n",
        "  def __init__(self,x1):\n",
        "    self.x1=x1\n",
        "  def media(self):\n",
        "    return sum(self.x1)/len(self.x1)\n",
        "  def mediana(self):\n",
        "    self.x1.sort()\n",
        "    num= len(self.x1)\n",
        "    if num %2==0:\n",
        "      print((self.x1[int(num/2)]+self.x1[int(num/2)-1])/2)\n",
        "    else:\n",
        "      print(self.x1[int(num/2-0.5)])\n",
        "  def varianza(self):\n",
        "    media_x=self.media()\n",
        "    vec=[(i-media_x)**2 for i in self.x1]\n",
        "    return sum(vec)/(len(vec)-1)\n",
        "  def desviacion_estandar(self):\n",
        "    return self.varianza()**(1/2)\n",
        "  def coeficiente_variacion(self):\n",
        "    return self.desviacion_estandar()/self.media()"
      ]
    },
    {
      "cell_type": "code",
      "source": [
        "!pip install wooldridge"
      ],
      "metadata": {
        "colab": {
          "base_uri": "https://localhost:8080/"
        },
        "id": "lcKelSgnveMY",
        "outputId": "613fb668-1474-4a6e-b30f-f3803554b939"
      },
      "execution_count": null,
      "outputs": [
        {
          "output_type": "stream",
          "name": "stdout",
          "text": [
            "Collecting wooldridge\n",
            "  Downloading wooldridge-0.4.4-py3-none-any.whl (5.1 MB)\n",
            "\u001b[K     |████████████████████████████████| 5.1 MB 7.3 MB/s \n",
            "\u001b[?25hRequirement already satisfied: pandas in /usr/local/lib/python3.7/dist-packages (from wooldridge) (1.3.5)\n",
            "Requirement already satisfied: python-dateutil>=2.7.3 in /usr/local/lib/python3.7/dist-packages (from pandas->wooldridge) (2.8.2)\n",
            "Requirement already satisfied: numpy>=1.17.3 in /usr/local/lib/python3.7/dist-packages (from pandas->wooldridge) (1.21.5)\n",
            "Requirement already satisfied: pytz>=2017.3 in /usr/local/lib/python3.7/dist-packages (from pandas->wooldridge) (2018.9)\n",
            "Requirement already satisfied: six>=1.5 in /usr/local/lib/python3.7/dist-packages (from python-dateutil>=2.7.3->pandas->wooldridge) (1.15.0)\n",
            "Installing collected packages: wooldridge\n",
            "Successfully installed wooldridge-0.4.4\n"
          ]
        }
      ]
    },
    {
      "cell_type": "code",
      "source": [
        "import wooldridge as wd"
      ],
      "metadata": {
        "id": "0igukeuTv1Zw"
      },
      "execution_count": null,
      "outputs": []
    },
    {
      "cell_type": "code",
      "source": [
        "df = wd.data('wage1')"
      ],
      "metadata": {
        "id": "9RzHGXTbxn_L"
      },
      "execution_count": null,
      "outputs": []
    },
    {
      "cell_type": "code",
      "source": [
        "wage = df['wage']"
      ],
      "metadata": {
        "id": "TcsZrRGYyoPv"
      },
      "execution_count": null,
      "outputs": []
    },
    {
      "cell_type": "code",
      "source": [
        "educ = df['educ']"
      ],
      "metadata": {
        "id": "0oIQOOTeyrFf"
      },
      "execution_count": null,
      "outputs": []
    },
    {
      "cell_type": "code",
      "source": [
        "wage"
      ],
      "metadata": {
        "colab": {
          "base_uri": "https://localhost:8080/"
        },
        "id": "3wsSqr7-ysUw",
        "outputId": "52e40dfc-77a5-45db-906a-3b78a2e5b954"
      },
      "execution_count": null,
      "outputs": [
        {
          "output_type": "execute_result",
          "data": {
            "text/plain": [
              "0       3.10\n",
              "1       3.24\n",
              "2       3.00\n",
              "3       6.00\n",
              "4       5.30\n",
              "       ...  \n",
              "521    15.00\n",
              "522     2.27\n",
              "523     4.67\n",
              "524    11.56\n",
              "525     3.50\n",
              "Name: wage, Length: 526, dtype: float64"
            ]
          },
          "metadata": {},
          "execution_count": 9
        }
      ]
    },
    {
      "cell_type": "code",
      "source": [
        "educ"
      ],
      "metadata": {
        "colab": {
          "base_uri": "https://localhost:8080/"
        },
        "id": "3e-zxaBoysnP",
        "outputId": "c1008346-9db2-4383-87c2-d7c336592438"
      },
      "execution_count": null,
      "outputs": [
        {
          "output_type": "execute_result",
          "data": {
            "text/plain": [
              "0      11\n",
              "1      12\n",
              "2      11\n",
              "3       8\n",
              "4      12\n",
              "       ..\n",
              "521    16\n",
              "522    10\n",
              "523    15\n",
              "524    16\n",
              "525    14\n",
              "Name: educ, Length: 526, dtype: int64"
            ]
          },
          "metadata": {},
          "execution_count": 10
        }
      ]
    },
    {
      "cell_type": "code",
      "source": [
        "est = Estadisticos(wage.to_list())"
      ],
      "metadata": {
        "id": "I-1HPJn7ys4X"
      },
      "execution_count": null,
      "outputs": []
    },
    {
      "cell_type": "code",
      "source": [
        "est.media()"
      ],
      "metadata": {
        "colab": {
          "base_uri": "https://localhost:8080/"
        },
        "id": "rd2gyS58ywp_",
        "outputId": "fab3aed8-ebe8-42ad-f5b2-6eaeb96562c0"
      },
      "execution_count": null,
      "outputs": [
        {
          "output_type": "execute_result",
          "data": {
            "text/plain": [
              "5.896102674787035"
            ]
          },
          "metadata": {},
          "execution_count": 12
        }
      ]
    },
    {
      "cell_type": "code",
      "source": [
        "est.mediana()"
      ],
      "metadata": {
        "colab": {
          "base_uri": "https://localhost:8080/"
        },
        "id": "u3M0H8c3yyLn",
        "outputId": "81142830-e3a0-44d3-efc2-12baacfee6ef"
      },
      "execution_count": null,
      "outputs": [
        {
          "output_type": "stream",
          "name": "stdout",
          "text": [
            "4.650000095367432\n"
          ]
        }
      ]
    },
    {
      "cell_type": "code",
      "source": [
        "est.varianza()"
      ],
      "metadata": {
        "colab": {
          "base_uri": "https://localhost:8080/"
        },
        "id": "b7IicV4e0E03",
        "outputId": "b0c4ff9c-8f67-4241-882d-5b07d34b813c"
      },
      "execution_count": null,
      "outputs": [
        {
          "output_type": "execute_result",
          "data": {
            "text/plain": [
              "13.638884363775"
            ]
          },
          "metadata": {},
          "execution_count": 17
        }
      ]
    },
    {
      "cell_type": "code",
      "source": [
        "est.desviacion_estandar()"
      ],
      "metadata": {
        "colab": {
          "base_uri": "https://localhost:8080/"
        },
        "id": "09mUlvTl0He-",
        "outputId": "59a2d1c7-b437-4523-b37b-c9a2edfebda5"
      },
      "execution_count": null,
      "outputs": [
        {
          "output_type": "execute_result",
          "data": {
            "text/plain": [
              "3.6930860217134125"
            ]
          },
          "metadata": {},
          "execution_count": 18
        }
      ]
    },
    {
      "cell_type": "code",
      "source": [
        "est.coeficiente_variacion()"
      ],
      "metadata": {
        "colab": {
          "base_uri": "https://localhost:8080/"
        },
        "id": "wBxQ5qjx0b-B",
        "outputId": "9ef2bdcf-2c5a-4a27-c9c0-cd60cf6ba564"
      },
      "execution_count": null,
      "outputs": [
        {
          "output_type": "execute_result",
          "data": {
            "text/plain": [
              "0.6263605343078266"
            ]
          },
          "metadata": {},
          "execution_count": 20
        }
      ]
    },
    {
      "cell_type": "code",
      "source": [
        "est2 = Estadisticos(educ.to_list())"
      ],
      "metadata": {
        "id": "u9jmoaOhyzAn"
      },
      "execution_count": null,
      "outputs": []
    },
    {
      "cell_type": "code",
      "source": [
        "est2.media()"
      ],
      "metadata": {
        "colab": {
          "base_uri": "https://localhost:8080/"
        },
        "id": "hNenXqqEy1XJ",
        "outputId": "d3a8a451-9b78-4f4d-d786-1ace2f4eedc4"
      },
      "execution_count": null,
      "outputs": [
        {
          "output_type": "execute_result",
          "data": {
            "text/plain": [
              "12.562737642585551"
            ]
          },
          "metadata": {},
          "execution_count": 15
        }
      ]
    },
    {
      "cell_type": "code",
      "source": [
        "est2.mediana()"
      ],
      "metadata": {
        "colab": {
          "base_uri": "https://localhost:8080/"
        },
        "id": "3jxILo_ey2Lx",
        "outputId": "0290b40f-2b20-4b36-cc76-4b3d9694646a"
      },
      "execution_count": null,
      "outputs": [
        {
          "output_type": "stream",
          "name": "stdout",
          "text": [
            "12.0\n"
          ]
        }
      ]
    },
    {
      "cell_type": "code",
      "source": [
        "est2.varianza()"
      ],
      "metadata": {
        "colab": {
          "base_uri": "https://localhost:8080/"
        },
        "id": "P151KCjfy3DZ",
        "outputId": "926de75f-f82e-42e9-c965-f98c33095aa4"
      },
      "execution_count": null,
      "outputs": [
        {
          "output_type": "execute_result",
          "data": {
            "text/plain": [
              "7.667485062466015"
            ]
          },
          "metadata": {},
          "execution_count": 21
        }
      ]
    },
    {
      "cell_type": "code",
      "source": [
        "est2.desviacion_estandar()"
      ],
      "metadata": {
        "colab": {
          "base_uri": "https://localhost:8080/"
        },
        "id": "8bBW70_x0s9z",
        "outputId": "b19a1480-4e18-4a5d-f098-4b2049b471d0"
      },
      "execution_count": null,
      "outputs": [
        {
          "output_type": "execute_result",
          "data": {
            "text/plain": [
              "2.769022401943692"
            ]
          },
          "metadata": {},
          "execution_count": 22
        }
      ]
    },
    {
      "cell_type": "code",
      "source": [
        "est2.coeficiente_variacion()"
      ],
      "metadata": {
        "colab": {
          "base_uri": "https://localhost:8080/"
        },
        "id": "Zo66e0l40w9L",
        "outputId": "a1c1992f-74a0-4c8f-9241-bac8aad14b46"
      },
      "execution_count": null,
      "outputs": [
        {
          "output_type": "execute_result",
          "data": {
            "text/plain": [
              "0.22041552412566315"
            ]
          },
          "metadata": {},
          "execution_count": 23
        }
      ]
    },
    {
      "cell_type": "markdown",
      "source": [
        "##Wage\n",
        "La base de datos muestra que las personas reciben un sueldo promedio de 5.9$.\n",
        "Tambien muestra que la media esta por encima de la mediana lo que significa una asimetria posititva en los datos de los sueldos. La desviacion estandar nos dice que algunos datos se alejan de la media en 3.69, confirmandose asi en la varianza que los datos se encuentran proximos a 1 ya que arroja un resultado de 0.62 mostrando una media dispersa.\n",
        "##Education\n",
        "La educacion tiene una media de 12.56 estando tambien por encima de la mediana ya que esta es de 12 mostrando unas asimetria positiva. La desviacion y varianza son menores a la de los sueldo demostrando asi que los datos estan mas concentrados en su media, por lo tanto el coeficiente de variacion esta mas proximo a 0 \n",
        "\n"
      ],
      "metadata": {
        "id": "5TDbZkhq0-G4"
      }
    }
  ]
}